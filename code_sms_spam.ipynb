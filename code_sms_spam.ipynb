{
  "nbformat": 4,
  "nbformat_minor": 0,
  "metadata": {
    "colab": {
      "provenance": [],
      "authorship_tag": "ABX9TyOzFO/rJVkywrpHqBRgbjZg",
      "include_colab_link": true
    },
    "kernelspec": {
      "name": "python3",
      "display_name": "Python 3"
    },
    "language_info": {
      "name": "python"
    }
  },
  "cells": [
    {
      "cell_type": "markdown",
      "metadata": {
        "id": "view-in-github",
        "colab_type": "text"
      },
      "source": [
        "<a href=\"https://colab.research.google.com/github/pra08528/CODSOFT_ML_04/blob/main/code_sms_spam.ipynb\" target=\"_parent\"><img src=\"https://colab.research.google.com/assets/colab-badge.svg\" alt=\"Open In Colab\"/></a>"
      ]
    },
    {
      "cell_type": "code",
      "execution_count": 1,
      "metadata": {
        "colab": {
          "base_uri": "https://localhost:8080/"
        },
        "id": "_IRC-8DVfgCB",
        "outputId": "9e581368-0f97-490d-fac3-dd5774540aa5"
      },
      "outputs": [
        {
          "output_type": "stream",
          "name": "stdout",
          "text": [
            "Dataset URL: https://www.kaggle.com/datasets/uciml/sms-spam-collection-dataset\n",
            "License(s): unknown\n",
            "Downloading sms-spam-collection-dataset.zip to /content\n",
            "  0% 0.00/211k [00:00<?, ?B/s]\n",
            "100% 211k/211k [00:00<00:00, 16.3MB/s]\n"
          ]
        }
      ],
      "source": [
        "!kaggle datasets download -d uciml/sms-spam-collection-dataset"
      ]
    },
    {
      "cell_type": "code",
      "source": [
        "!unzip sms-spam-collection-dataset.zip"
      ],
      "metadata": {
        "colab": {
          "base_uri": "https://localhost:8080/"
        },
        "id": "CJuMkGfkg0HC",
        "outputId": "dda8e773-6a25-457c-e3eb-a07983fefa7a"
      },
      "execution_count": 3,
      "outputs": [
        {
          "output_type": "stream",
          "name": "stdout",
          "text": [
            "Archive:  sms-spam-collection-dataset.zip\n",
            "  inflating: spam.csv                \n"
          ]
        }
      ]
    },
    {
      "cell_type": "code",
      "source": [
        "import zipfile\n",
        "import pandas as pd\n",
        "from sklearn.feature_extraction.text import TfidfVectorizer\n",
        "from sklearn.naive_bayes import MultinomialNB\n",
        "from sklearn.model_selection import train_test_split\n",
        "from sklearn.metrics import accuracy_score, classification_report\n",
        "import joblib\n",
        "import os\n",
        "\n",
        "# Step 1: Extract the Dataset\n",
        "zip_file_path = '/content/sms-spam-collection-dataset.zip'\n",
        "extract_folder_path = '/content/sms-spam-collection-dataset/'\n",
        "\n",
        "with zipfile.ZipFile(zip_file_path, 'r') as zip_ref:\n",
        "    zip_ref.extractall(extract_folder_path)\n",
        "\n",
        "# Verify the extracted files\n",
        "extracted_files = os.listdir(extract_folder_path)\n",
        "print(\"Extracted files:\", extracted_files)\n",
        "\n",
        "# Step 2: Load the Dataset\n",
        "csv_file_name = 'spam.csv'  # File name\n",
        "csv_file_path = os.path.join(extract_folder_path, csv_file_name)\n",
        "\n",
        "# Check if file exists before loading\n",
        "if os.path.isfile(csv_file_path):\n",
        "    try:\n",
        "        # Load the dataset with the correct delimiter and encoding\n",
        "        df = pd.read_csv(csv_file_path, encoding='ISO-8859-1')\n",
        "\n",
        "        # Select only the relevant columns and rename them\n",
        "        df = df[['v1', 'v2']]\n",
        "        df.columns = ['label', 'message']\n",
        "\n",
        "        print(df.head())  # Inspect the first few rows\n",
        "    except UnicodeDecodeError as e:\n",
        "        print(f\"UnicodeDecodeError: {e}\")\n",
        "else:\n",
        "    raise FileNotFoundError(f\"The file {csv_file_path} does not exist.\")\n",
        "\n",
        "# Step 3: Data Preprocessing\n",
        "df['label'] = df['label'].map({'spam': 1, 'ham': 0})\n",
        "\n",
        "X = df['message']\n",
        "y = df['label']\n",
        "\n",
        "X_train, X_test, y_train, y_test = train_test_split(X, y, test_size=0.2, random_state=42)\n",
        "\n",
        "# Step 4: Feature Extraction\n",
        "vectorizer = TfidfVectorizer(stop_words='english', lowercase=True)\n",
        "X_train_tfidf = vectorizer.fit_transform(X_train)\n",
        "X_test_tfidf = vectorizer.transform(X_test)\n",
        "\n",
        "# Step 5: Model Training\n",
        "model = MultinomialNB()\n",
        "model.fit(X_train_tfidf, y_train)\n",
        "\n",
        "# Step 6: Evaluation\n",
        "y_pred = model.predict(X_test_tfidf)\n",
        "print(f'Accuracy: {accuracy_score(y_test, y_pred)}')\n",
        "print(classification_report(y_test, y_pred))\n",
        "\n",
        "# Optional: Save and Load the Model\n",
        "joblib.dump(model, 'spam_sms_model.pkl')\n",
        "print(\"Model saved as 'spam_sms_model.pkl'\")\n",
        "\n",
        "# Load the model (for demonstration purposes)\n",
        "loaded_model = joblib.load('spam_sms_model.pkl')\n"
      ],
      "metadata": {
        "colab": {
          "base_uri": "https://localhost:8080/"
        },
        "id": "3CbxgyOXiYZP",
        "outputId": "8f1f0a74-0b29-4ef8-9d6e-8622eb6db77f"
      },
      "execution_count": 7,
      "outputs": [
        {
          "output_type": "stream",
          "name": "stdout",
          "text": [
            "Extracted files: ['spam.csv']\n",
            "  label                                            message\n",
            "0   ham  Go until jurong point, crazy.. Available only ...\n",
            "1   ham                      Ok lar... Joking wif u oni...\n",
            "2  spam  Free entry in 2 a wkly comp to win FA Cup fina...\n",
            "3   ham  U dun say so early hor... U c already then say...\n",
            "4   ham  Nah I don't think he goes to usf, he lives aro...\n",
            "Accuracy: 0.9668161434977578\n",
            "              precision    recall  f1-score   support\n",
            "\n",
            "           0       0.96      1.00      0.98       965\n",
            "           1       1.00      0.75      0.86       150\n",
            "\n",
            "    accuracy                           0.97      1115\n",
            "   macro avg       0.98      0.88      0.92      1115\n",
            "weighted avg       0.97      0.97      0.96      1115\n",
            "\n",
            "Model saved as 'spam_sms_model.pkl'\n"
          ]
        }
      ]
    }
  ]
}